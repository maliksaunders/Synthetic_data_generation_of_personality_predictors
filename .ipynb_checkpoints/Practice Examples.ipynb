{
 "cells": [
  {
   "cell_type": "markdown",
   "id": "e7907d5a",
   "metadata": {},
   "source": [
    "## Basic Examples for using each of the 6 methods of the sklearn.preprocessing.MinMaxScaler class\n",
    "\n",
    "### Methods of the sklearn.preprocessing.MinMaxScaler class\n",
    "1. fit(X[, y])\tCompute the minimum and maximum to be used for later scaling.\n",
    "2. fit_transform(X[, y])\tFit to data, then transform it.\n",
    "3. get_params([deep])\tGet parameters for this estimator.\n",
    "4. inverse_transform(X)\tUndo the scaling of X according to feature_range.\n",
    "5. set_params(**params)\tSet the parameters of this estimator.\n",
    "6. transform(X)\tScaling features of X according to feature_range.\n",
    "\n",
    "Other Methods\n",
    "- "
   ]
  },
  {
   "cell_type": "markdown",
   "id": "fe07cc4f",
   "metadata": {},
   "source": [
    "#### fit(X)\n",
    "Computes the minimum and maximum to be used for later scaling."
   ]
  },
  {
   "cell_type": "code",
   "execution_count": null,
   "id": "1cf811b0",
   "metadata": {},
   "outputs": [
    {
     "name": "stdout",
     "output_type": "stream",
     "text": [
      "X:\n",
      "[[ 1 -1  2]\n",
      " [ 2  0  0]\n",
      " [ 0  1 -1]]\n",
      "X.min(axis=0):\n",
      "[ 0 -1 -1]\n",
      "X.max(axis=0):\n",
      "[2 1 2]\n",
      "X_std_num:\n",
      "[[1 0 3]\n",
      " [2 1 1]\n",
      " [0 2 0]]\n",
      "X_std_denom:\n",
      "[2 2 3]\n",
      "X_std:\n",
      "[[0.5        0.         1.        ]\n",
      " [1.         0.5        0.33333333]\n",
      " [0.         1.         0.        ]]\n",
      "X_std_dev_np:\n",
      "1.0657403385139377\n"
     ]
    },
    {
     "data": {
      "text/plain": [
       "MinMaxScaler()"
      ]
     },
     "metadata": {},
     "output_type": "display_data"
    }
   ],
   "source": [
    "import numpy as np\n",
    "from sklearn.preprocessing import MinMaxScaler\n",
    "\n",
    "# Sample data\n",
    "# X = np.array([[1, -1, 2],\n",
    "#               [2, 0, 0],\n",
    "#               [0, 1, -1]])\n",
    "\n",
    "# X = np.array([[1, 2, 3, 4, 5],\n",
    "#               [5, 4, 3, 2, 1],\n",
    "#               [1, 1, 1, 2, 5]])\n",
    "\n",
    "array_1 = [1, -1, 2]\n",
    "array_2 = [2, 0, 0]\n",
    "array_3 = [0, 1, -1]\n",
    "\n",
    "X = np.array([array_1,\n",
    "             array_2,\n",
    "             array_3])\n",
    "\n",
    "print('X:')\n",
    "print(X)\n",
    "X_min_axis_0 = X.min(axis=0)\n",
    "X_max_axis_0 = X.max(axis=0)\n",
    "\n",
    "## X_std is the Standardization of the X Matrix\n",
    "X_std_num = (X - X_min_axis_0)\n",
    "X_std_denom = (X_max_axis_0 - X_min_axis_0)\n",
    "X_std = X_std_num / X_std_denom\n",
    "print('X.min(axis=0):')\n",
    "print(X_min_axis_0)\n",
    "print('X.max(axis=0):')\n",
    "print(X_max_axis_0)\n",
    "print('X_std_num:')\n",
    "print(X_std_num)\n",
    "print('X_std_denom:')\n",
    "print(X_std_denom)\n",
    "print('X_std:')\n",
    "print(X_std)\n",
    "\n",
    "\n",
    "#std_dev_np\n",
    "X_std_dev_np = np.std(X)\n",
    "print('X_std_dev_np:')\n",
    "print(X_std_dev_np)\n",
    "\n",
    "# Initialize the scaler\n",
    "scaler = MinMaxScaler()\n",
    "\n",
    "scaler.fit(X)"
   ]
  },
  {
   "cell_type": "markdown",
   "id": "6fef5fd6",
   "metadata": {},
   "source": [
    "#### transform(X)\n",
    "Scales the data based on the previously computed min and max."
   ]
  },
  {
   "cell_type": "code",
   "execution_count": null,
   "id": "94d39d1d",
   "metadata": {},
   "outputs": [
    {
     "name": "stdout",
     "output_type": "stream",
     "text": [
      "Transformed:\n",
      " [[0.5        0.         1.        ]\n",
      " [1.         0.5        0.33333333]\n",
      " [0.         1.         0.        ]]\n"
     ]
    }
   ],
   "source": [
    "X_scaled = scaler.transform(X)\n",
    "print(\"Transformed:\\n\", X_scaled)"
   ]
  },
  {
   "cell_type": "markdown",
   "id": "f289f855",
   "metadata": {},
   "source": [
    "#### fit_transform(X)\n",
    "Combines fit and transform in one step (common shortcut)."
   ]
  },
  {
   "cell_type": "code",
   "execution_count": null,
   "id": "19d5f0c7",
   "metadata": {},
   "outputs": [
    {
     "name": "stdout",
     "output_type": "stream",
     "text": [
      "Fit and Transformed:\n",
      " [[0.5        0.         1.        ]\n",
      " [1.         0.5        0.33333333]\n",
      " [0.         1.         0.        ]]\n"
     ]
    }
   ],
   "source": [
    "X_scaled_direct = scaler.fit_transform(X)\n",
    "print(\"Fit and Transformed:\\n\", X_scaled_direct)"
   ]
  },
  {
   "cell_type": "markdown",
   "id": "16b51368",
   "metadata": {},
   "source": [
    "####  inverse_transform(X_scaled)\n",
    "Reverses the scaling back to the original data values."
   ]
  },
  {
   "cell_type": "code",
   "execution_count": null,
   "id": "55fd3e77",
   "metadata": {},
   "outputs": [
    {
     "name": "stdout",
     "output_type": "stream",
     "text": [
      "Inverse Transformed:\n",
      " [[ 1. -1.  2.]\n",
      " [ 2.  0.  0.]\n",
      " [ 0.  1. -1.]]\n"
     ]
    }
   ],
   "source": [
    "X_original = scaler.inverse_transform(X_scaled_direct)\n",
    "print(\"Inverse Transformed:\\n\", X_original)"
   ]
  },
  {
   "cell_type": "markdown",
   "id": "965cc867",
   "metadata": {},
   "source": [
    "#### get_params()\n",
    "Returns the parameters used in the scaler instance (e.g., feature_range)."
   ]
  },
  {
   "cell_type": "code",
   "execution_count": null,
   "id": "51af3c24",
   "metadata": {},
   "outputs": [
    {
     "name": "stdout",
     "output_type": "stream",
     "text": [
      "Scaler Parameters:\n",
      " {'clip': False, 'copy': True, 'feature_range': (0, 1)}\n"
     ]
    }
   ],
   "source": [
    "params = scaler.get_params()\n",
    "print(\"Scaler Parameters:\\n\", params)"
   ]
  },
  {
   "cell_type": "markdown",
   "id": "eceec981",
   "metadata": {},
   "source": [
    "#### set_params(**params)\n",
    "Updates the parameters of the scaler."
   ]
  },
  {
   "cell_type": "code",
   "execution_count": null,
   "id": "64119d18",
   "metadata": {},
   "outputs": [
    {
     "name": "stdout",
     "output_type": "stream",
     "text": [
      "Transformed with custom range (-1, 1):\n",
      " [[ 0.         -1.          1.        ]\n",
      " [ 1.          0.         -0.33333333]\n",
      " [-1.          1.         -1.        ]]\n"
     ]
    }
   ],
   "source": [
    "scaler.set_params(feature_range=(-1, 1))\n",
    "X_scaled_custom_range = scaler.fit_transform(X)\n",
    "print(\"Transformed with custom range (-1, 1):\\n\", X_scaled_custom_range)"
   ]
  }
 ],
 "metadata": {
  "language_info": {
   "name": "python"
  }
 },
 "nbformat": 4,
 "nbformat_minor": 5
}
